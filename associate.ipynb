{
 "cells": [
  {
   "cell_type": "code",
   "execution_count": 1,
   "metadata": {},
   "outputs": [],
   "source": [
    "import numpy as np\n",
    "import pandas as pd\n",
    "import csv\n",
    "import Orange\n",
    "from orangecontrib.associate.fpgrowth import *"
   ]
  },
  {
   "cell_type": "code",
   "execution_count": 2,
   "metadata": {},
   "outputs": [],
   "source": [
    "#df = pd.read_csv('./associate.csv').associate.str.replace(\"[\",\"\").str.replace(\"]\",\"\").str.replace(\"https://filmaga.filmarks.com\",\"\").str.replace(\"'\",\"\")\n",
    "#df.to_csv('./file/in.basket',header=False, index=False, encoding='utf-8')"
   ]
  },
  {
   "cell_type": "code",
   "execution_count": 3,
   "metadata": {},
   "outputs": [],
   "source": [
    "#df = pd.read_csv('./asso_data_all.csv').associate.str.replace(\"[\",\"\").str.replace(\"]\",\"\").str.replace(\"'\",\"\")\n",
    "#df = df[~(df.str.contains(\"/rss\") | df.str.contains(\".ico\"))]\n",
    "#df.to_csv('./file/in.basket',header=False, index=False, encoding='utf-8')"
   ]
  },
  {
   "cell_type": "code",
   "execution_count": 4,
   "metadata": {},
   "outputs": [
    {
     "data": {
      "text/plain": [
       "65959"
      ]
     },
     "execution_count": 4,
     "metadata": {},
     "output_type": "execute_result"
    }
   ],
   "source": [
    "df = pd.read_csv('./associate_00.csv').associate.str.replace(\"[\",\"\").str.replace(\"]\",\"\").str.replace(\"'\",\"\")\n",
    "df.to_csv('./file/in.basket',header=False, index=False, encoding='utf-8')"
   ]
  },
  {
   "cell_type": "code",
   "execution_count": 5,
   "metadata": {},
   "outputs": [],
   "source": [
    "in_file = open('./file/in.basket','r')\n",
    "out_file = open('./file/out.basket', 'w') \n",
    "\n",
    "lines = in_file.readlines()\n",
    "\n",
    "for line in lines:\n",
    "    row = line.replace(\"\\\"\",\"\")\n",
    "    out_file.write(row)\n",
    "\n",
    "in_file.close()\n",
    "out_file.close()"
   ]
  },
  {
   "cell_type": "code",
   "execution_count": 6,
   "metadata": {},
   "outputs": [],
   "source": [
    "data = Orange.data.Table('./file/out.basket')"
   ]
  },
  {
   "cell_type": "code",
   "execution_count": 7,
   "metadata": {},
   "outputs": [],
   "source": [
    "X, mapping = OneHot.encode(data)\n",
    "\n",
    "# frequent~()の第2変数はsupportの最小値.今回は総数の0.1%\n",
    "itemsets = dict(frequent_itemsets(X, 5))"
   ]
  },
  {
   "cell_type": "code",
   "execution_count": 8,
   "metadata": {},
   "outputs": [],
   "source": [
    "# 第2変数はconfidenceの最小値.\n",
    "rules = association_rules(itemsets, 0.7)"
   ]
  },
  {
   "cell_type": "code",
   "execution_count": 9,
   "metadata": {},
   "outputs": [],
   "source": [
    "stats = rules_stats(rules, itemsets, len(X))"
   ]
  },
  {
   "cell_type": "code",
   "execution_count": 10,
   "metadata": {},
   "outputs": [],
   "source": [
    "def decode_onehot(d):\n",
    "    items = OneHot.decode(d, data, mapping)\n",
    "    return list(map(lambda v: v[1].name, items))"
   ]
  },
  {
   "cell_type": "code",
   "execution_count": 11,
   "metadata": {
    "scrolled": true
   },
   "outputs": [],
   "source": [
    "result_file = open('./file/result4.csv', 'w') "
   ]
  },
  {
   "cell_type": "code",
   "execution_count": 12,
   "metadata": {},
   "outputs": [],
   "source": [
    "for s in sorted(stats, key = lambda x: x[6], reverse = True):\n",
    "\n",
    "    lhs = decode_onehot(s[0])\n",
    "    rhs = decode_onehot(s[1])\n",
    "    \n",
    "    if \"writers\" in str(lhs) or \"writers\" in str(rhs):\n",
    "\n",
    "        support = round((s[2]/len(data)), 5)\n",
    "        confidence = round(s[3], 4)\n",
    "        lift = round(s[6], 4)\n",
    "    \n",
    "        result_file.write(f\"lhs = {lhs}, rhs = {rhs}, support = {support}, confidence = {confidence}, lift = {lift}\\n\")\n",
    "\n",
    "    else:\n",
    "        pass\n",
    "    \n",
    "result_file.close()"
   ]
  },
  {
   "cell_type": "code",
   "execution_count": null,
   "metadata": {},
   "outputs": [],
   "source": []
  }
 ],
 "metadata": {
  "kernelspec": {
   "display_name": "Python 3",
   "language": "python",
   "name": "python3"
  },
  "language_info": {
   "codemirror_mode": {
    "name": "ipython",
    "version": 3
   },
   "file_extension": ".py",
   "mimetype": "text/x-python",
   "name": "python",
   "nbconvert_exporter": "python",
   "pygments_lexer": "ipython3",
   "version": "3.6.5"
  }
 },
 "nbformat": 4,
 "nbformat_minor": 2
}
